{
 "cells": [
  {
   "cell_type": "code",
   "execution_count": 9,
   "id": "fe221e7c-14d9-4a55-bbdd-2b23226eb885",
   "metadata": {},
   "outputs": [],
   "source": [
    "import re\n",
    "from collections import Counter"
   ]
  },
  {
   "cell_type": "code",
   "execution_count": 2,
   "id": "7a147eb8-015b-4865-aff8-dee4eb665f62",
   "metadata": {},
   "outputs": [],
   "source": [
    "a =  'Autocorrect is a powerful tool and it is used on our computer.'"
   ]
  },
  {
   "cell_type": "code",
   "execution_count": 11,
   "id": "0a6ce63c-3b4e-4051-9267-0af5e3ea9162",
   "metadata": {},
   "outputs": [
    {
     "data": {
      "text/plain": [
       "2"
      ]
     },
     "execution_count": 11,
     "metadata": {},
     "output_type": "execute_result"
    }
   ],
   "source": [
    "wordsSplit = re.findall(r\"\\w+\",a)\n",
    "\n",
    "countword = Counter(wordsSplit)\n",
    "countword['is']\n"
   ]
  },
  {
   "cell_type": "code",
   "execution_count": 13,
   "id": "205a1b50-fc3e-4afb-a026-06fc91c96b33",
   "metadata": {},
   "outputs": [
    {
     "data": {
      "text/plain": [
       "12"
      ]
     },
     "execution_count": 13,
     "metadata": {},
     "output_type": "execute_result"
    }
   ],
   "source": [
    "sum(countword.values())"
   ]
  },
  {
   "cell_type": "code",
   "execution_count": 15,
   "id": "a386b789-b1fe-4eff-bd87-0fdf700aa73a",
   "metadata": {},
   "outputs": [
    {
     "data": {
      "text/plain": [
       "0.16666666666666666"
      ]
     },
     "execution_count": 15,
     "metadata": {},
     "output_type": "execute_result"
    }
   ],
   "source": [
    "probability_is = 2/12\n",
    "probability_is"
   ]
  },
  {
   "cell_type": "markdown",
   "id": "1e696bfb-0d75-47a7-a944-03b4584c0b60",
   "metadata": {},
   "source": [
    "## Read text file"
   ]
  },
  {
   "cell_type": "code",
   "execution_count": 16,
   "id": "ace044e9-df00-4960-a609-4ae02d683d90",
   "metadata": {},
   "outputs": [
    {
     "name": "stdout",
     "output_type": "stream",
     "text": [
      "Hello! Welcome to demofile.txt\n",
      "This file is for testing purposes.\n",
      "Good Luck!\n"
     ]
    }
   ],
   "source": [
    "f = open(\"demofile.txt\", \"r\")\n",
    "print(f.read())"
   ]
  },
  {
   "cell_type": "code",
   "execution_count": null,
   "id": "66dcb80e-4da8-43b0-bedd-e21d95fca2ec",
   "metadata": {},
   "outputs": [],
   "source": []
  }
 ],
 "metadata": {
  "kernelspec": {
   "display_name": "Python 3 (ipykernel)",
   "language": "python",
   "name": "python3"
  },
  "language_info": {
   "codemirror_mode": {
    "name": "ipython",
    "version": 3
   },
   "file_extension": ".py",
   "mimetype": "text/x-python",
   "name": "python",
   "nbconvert_exporter": "python",
   "pygments_lexer": "ipython3",
   "version": "3.9.12"
  }
 },
 "nbformat": 4,
 "nbformat_minor": 5
}
